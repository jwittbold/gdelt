{
 "cells": [
  {
   "cell_type": "markdown",
   "id": "funky-credit",
   "metadata": {},
   "source": [
    "# GDELT 2.0 Exploratory Data Analysis"
   ]
  },
  {
   "cell_type": "code",
   "execution_count": 12,
   "id": "governmental-president",
   "metadata": {},
   "outputs": [],
   "source": [
    "# !pip install ipython-sql\n"
   ]
  },
  {
   "cell_type": "code",
   "execution_count": 13,
   "id": "nominated-harrison",
   "metadata": {},
   "outputs": [],
   "source": [
    "import os\n",
    "import pandas as pd\n",
    "import pprint as pp \n",
    "import seaborn as sns\n",
    "import matplotlib as plt"
   ]
  },
  {
   "cell_type": "code",
   "execution_count": 14,
   "id": "adjacent-destiny",
   "metadata": {},
   "outputs": [
    {
     "name": "stdout",
     "output_type": "stream",
     "text": [
      "The sql extension is already loaded. To reload it, use:\n",
      "  %reload_ext sql\n"
     ]
    }
   ],
   "source": [
    " %load_ext sql"
   ]
  },
  {
   "cell_type": "code",
   "execution_count": 15,
   "id": "minimal-scratch",
   "metadata": {},
   "outputs": [],
   "source": [
    "%sql sqlite://"
   ]
  },
  {
   "cell_type": "markdown",
   "id": "round-james",
   "metadata": {},
   "source": [
    "## sample EVENT GDELT .csv file"
   ]
  },
  {
   "cell_type": "code",
   "execution_count": 31,
   "id": "rural-lottery",
   "metadata": {},
   "outputs": [
    {
     "name": "stdout",
     "output_type": "stream",
     "text": [
      "<class 'pandas.core.frame.DataFrame'>\n",
      "RangeIndex: 2360 entries, 0 to 2359\n",
      "Data columns (total 61 columns):\n",
      " #   Column                                                                                                         Non-Null Count  Dtype  \n",
      "---  ------                                                                                                         --------------  -----  \n",
      " 0   977541871                                                                                                      2360 non-null   int64  \n",
      " 1   20200401                                                                                                       2360 non-null   int64  \n",
      " 2   202004                                                                                                         2360 non-null   int64  \n",
      " 3   2020                                                                                                           2360 non-null   int64  \n",
      " 4   2020.2493                                                                                                      2360 non-null   float64\n",
      " 5   Unnamed: 5                                                                                                     2114 non-null   object \n",
      " 6   Unnamed: 6                                                                                                     2114 non-null   object \n",
      " 7   Unnamed: 7                                                                                                     1285 non-null   object \n",
      " 8   Unnamed: 8                                                                                                     15 non-null     object \n",
      " 9   Unnamed: 9                                                                                                     6 non-null      object \n",
      " 10  Unnamed: 10                                                                                                    46 non-null     object \n",
      " 11  Unnamed: 11                                                                                                    16 non-null     object \n",
      " 12  Unnamed: 12                                                                                                    1005 non-null   object \n",
      " 13  Unnamed: 13                                                                                                    83 non-null     object \n",
      " 14  Unnamed: 14                                                                                                    1 non-null      object \n",
      " 15  IRN                                                                                                            1560 non-null   object \n",
      " 16  IRAN                                                                                                           1560 non-null   object \n",
      " 17  IRN.1                                                                                                          880 non-null    object \n",
      " 18  Unnamed: 18                                                                                                    15 non-null     object \n",
      " 19  Unnamed: 19                                                                                                    6 non-null      object \n",
      " 20  Unnamed: 20                                                                                                    51 non-null     object \n",
      " 21  Unnamed: 21                                                                                                    21 non-null     object \n",
      " 22  Unnamed: 22                                                                                                    785 non-null    object \n",
      " 23  Unnamed: 23                                                                                                    77 non-null     object \n",
      " 24  Unnamed: 24                                                                                                    0 non-null      float64\n",
      " 25  1                                                                                                              2360 non-null   int64  \n",
      " 26  042                                                                                                            2360 non-null   int64  \n",
      " 27  042.1                                                                                                          2360 non-null   int64  \n",
      " 28  04                                                                                                             2360 non-null   int64  \n",
      " 29  1.1                                                                                                            2360 non-null   int64  \n",
      " 30  1.9                                                                                                            2360 non-null   float64\n",
      " 31  6                                                                                                              2360 non-null   int64  \n",
      " 32  1.2                                                                                                            2360 non-null   int64  \n",
      " 33  6.1                                                                                                            2360 non-null   int64  \n",
      " 34  -4.07407407407408                                                                                              2360 non-null   float64\n",
      " 35  0                                                                                                              2360 non-null   int64  \n",
      " 36  Unnamed: 36                                                                                                    2042 non-null   object \n",
      " 37  Unnamed: 37                                                                                                    2042 non-null   object \n",
      " 38  Unnamed: 38                                                                                                    2042 non-null   object \n",
      " 39  Unnamed: 39                                                                                                    949 non-null    object \n",
      " 40  Unnamed: 40                                                                                                    2042 non-null   float64\n",
      " 41  Unnamed: 41                                                                                                    2042 non-null   float64\n",
      " 42  Unnamed: 42                                                                                                    2042 non-null   object \n",
      " 43  1.3                                                                                                            2360 non-null   int64  \n",
      " 44  Iran                                                                                                           1518 non-null   object \n",
      " 45  IR                                                                                                             1518 non-null   object \n",
      " 46  IR.1                                                                                                           1518 non-null   object \n",
      " 47  Unnamed: 47                                                                                                    576 non-null    object \n",
      " 48  32                                                                                                             1518 non-null   float64\n",
      " 49  53                                                                                                             1518 non-null   float64\n",
      " 50  IR.2                                                                                                           1518 non-null   object \n",
      " 51  1.4                                                                                                            2360 non-null   int64  \n",
      " 52  Yemen                                                                                                          2272 non-null   object \n",
      " 53  YM                                                                                                             2272 non-null   object \n",
      " 54  YM.1                                                                                                           2272 non-null   object \n",
      " 55  Unnamed: 55                                                                                                    810 non-null    object \n",
      " 56  15.5                                                                                                           2272 non-null   float64\n",
      " 57  47.5                                                                                                           2272 non-null   float64\n",
      " 58  YM.2                                                                                                           2272 non-null   object \n",
      " 59  20210401001500                                                                                                 2360 non-null   int64  \n",
      " 60  https://www.msn.com/en-us/news/world/iraqi-prime-minister-says-turning-new-page-with-saudi-arabia/ar-BB1fbo8B  2360 non-null   object \n",
      "dtypes: float64(10), int64(16), object(35)\n",
      "memory usage: 1.1+ MB\n"
     ]
    }
   ],
   "source": [
    "sample_gkg_file = '/Users/jackwittbold/Desktop/gdelt_data/notebook_test_data/20210401001500.export.CSV'\n",
    "\n",
    "base_path = os.path.dirname(os.path.abspath(''))\n",
    "file_path = os.path.join(base_path, sample_gkg_file)\n",
    "\n",
    "with open(sample_gkg_file, 'rb') as f:\n",
    "    df = pd.read_csv(f, sep='\\t')\n",
    "df.info()\n",
    "    "
   ]
  },
  {
   "cell_type": "markdown",
   "id": "intelligent-discretion",
   "metadata": {},
   "source": [
    "GDELT Events Dataset consists of tab delimited columns, containing entries if that info can be parsed from source. Otherwise the value is Null. "
   ]
  },
  {
   "cell_type": "markdown",
   "id": "departmental-marsh",
   "metadata": {},
   "source": [
    "## Dimensions of sample Event file:"
   ]
  },
  {
   "cell_type": "code",
   "execution_count": null,
   "id": "confident-captain",
   "metadata": {},
   "outputs": [],
   "source": [
    "df.shape"
   ]
  },
  {
   "cell_type": "markdown",
   "id": "suspended-country",
   "metadata": {},
   "source": [
    "• Dataset comprises of 2417 rows and 61 columns"
   ]
  },
  {
   "cell_type": "markdown",
   "id": "loose-cursor",
   "metadata": {},
   "source": [
    "## Column values for the first row in this particular file:\n",
    "   \n",
    "   • Column values correspond to 'Events' as described in the GDELT Events Codebook \n",
    "   [GDELT Event Codebook-V2](http://data.gdeltproject.org/documentation/GDELT-Event_Codebook-V2.0.pdf)\n",
    "    "
   ]
  },
  {
   "cell_type": "code",
   "execution_count": null,
   "id": "convinced-seafood",
   "metadata": {
    "scrolled": true
   },
   "outputs": [],
   "source": [
    "for column in df.columns.values:\n",
    "    pp.pp(column)"
   ]
  },
  {
   "cell_type": "markdown",
   "id": "three-digest",
   "metadata": {},
   "source": [
    "## Each 'Event' shown here corresponds to a column above"
   ]
  },
  {
   "cell_type": "code",
   "execution_count": null,
   "id": "unnecessary-disco",
   "metadata": {},
   "outputs": [],
   "source": [
    "eventtitles = [ 'GlobalEventID','Day','MonthYear','Year','FractionDate',\n",
    "                'Actor1Code','Actor1Name','Actor1CountryCode','Actor1KnownGroupCode','Actor1EthnicCode','Actor1Religion1Code','Actor1Religion2Code','Actor1Type1Code','Actor1Type2Code','Actor1Type3Code',\n",
    "                'Actor2Code','Actor2Name','Actor2CountryCode','Actor2KnownGroupCode','Actor2EthnicCode','Actor2Religion1Code','Actor2Religion2Code','Actor2Type1Code','Actor2Type2Code','Actor2Type3Code',\n",
    "                'IsRootEvent','EventCode','EventBaseCode','EventRootCode','QuadClass','GoldsteinScale','NumMentions','NumSources','NumArticles','AvgTone',\n",
    "                'Actor1Geo_Type','Actor1Geo_Fullname','Actor1Geo_CountryCode','Actor1Geo_ADM1Code','Actor1Geo_ADM2Code','Actor1Geo_Lat','Actor1Geo_Long','Actor1Geo_FeatureID',\n",
    "                'Actor2Geo_Type','Actor2Geo_Fullname','Actor2Geo_CountryCode','Actor2Geo_ADM1Code','Actor2Geo_ADM2Code','Actor2Geo_Lat','Actor2Geo_Long','Actor2Geo_FeatureID',\n",
    "                'ActionGeo_Type','ActionGeo_Fullname','ActionGeo_CountryCode','ActionGeo_ADM1Code','ActionGeo_ADM2Code','ActionGeo_Lat','ActionGeo_Long','ActionGeo_FeatureID',\n",
    "                'DATEADDED','SOURCEURL' ]"
   ]
  },
  {
   "cell_type": "markdown",
   "id": "entertaining-adventure",
   "metadata": {},
   "source": [
    "## Showing the first and last five rows: "
   ]
  },
  {
   "cell_type": "code",
   "execution_count": null,
   "id": "racial-violin",
   "metadata": {},
   "outputs": [],
   "source": [
    "df.info"
   ]
  },
  {
   "cell_type": "markdown",
   "id": "agreed-fifteen",
   "metadata": {},
   "source": [
    "## Shows that many Null values (indicated in yellow) exist for certain columns"
   ]
  },
  {
   "cell_type": "code",
   "execution_count": null,
   "id": "resistant-sponsorship",
   "metadata": {},
   "outputs": [],
   "source": [
    "sns.heatmap(df.isnull(),cbar=False,yticklabels=False,cmap = 'viridis')"
   ]
  },
  {
   "cell_type": "code",
   "execution_count": null,
   "id": "increased-weekend",
   "metadata": {},
   "outputs": [],
   "source": [
    "%%sql\n",
    "CREATE TABLE GDELT_EVENTS('GlobalEventID','Day','MonthYear','Year','FractionDate',\n",
    "                'Actor1Code','Actor1Name','Actor1CountryCode','Actor1KnownGroupCode','Actor1EthnicCode','Actor1Religion1Code','Actor1Religion2Code','Actor1Type1Code','Actor1Type2Code','Actor1Type3Code',\n",
    "                'Actor2Code','Actor2Name','Actor2CountryCode','Actor2KnownGroupCode','Actor2EthnicCode','Actor2Religion1Code','Actor2Religion2Code','Actor2Type1Code','Actor2Type2Code','Actor2Type3Code',\n",
    "                'IsRootEvent','EventCode','EventBaseCode','EventRootCode','QuadClass','GoldsteinScale','NumMentions','NumSources','NumArticles','AvgTone',\n",
    "                'Actor1Geo_Type','Actor1Geo_Fullname','Actor1Geo_CountryCode','Actor1Geo_ADM1Code','Actor1Geo_ADM2Code','Actor1Geo_Lat','Actor1Geo_Long','Actor1Geo_FeatureID',\n",
    "                'Actor2Geo_Type','Actor2Geo_Fullname','Actor2Geo_CountryCode','Actor2Geo_ADM1Code','Actor2Geo_ADM2Code','Actor2Geo_Lat','Actor2Geo_Long','Actor2Geo_FeatureID',\n",
    "                'ActionGeo_Type','ActionGeo_Fullname','ActionGeo_CountryCode','ActionGeo_ADM1Code','ActionGeo_ADM2Code','ActionGeo_Lat','ActionGeo_Long','ActionGeo_FeatureID',\n",
    "                'DATEADDED','SOURCEURL')"
   ]
  }
 ],
 "metadata": {
  "kernelspec": {
   "display_name": "Python 3",
   "language": "python",
   "name": "python3"
  },
  "language_info": {
   "codemirror_mode": {
    "name": "ipython",
    "version": 3
   },
   "file_extension": ".py",
   "mimetype": "text/x-python",
   "name": "python",
   "nbconvert_exporter": "python",
   "pygments_lexer": "ipython3",
   "version": "3.8.5"
  }
 },
 "nbformat": 4,
 "nbformat_minor": 5
}
